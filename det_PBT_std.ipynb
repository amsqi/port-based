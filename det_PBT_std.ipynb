{
 "cells": [
  {
   "cell_type": "markdown",
   "metadata": {},
   "source": [
    "<span style=\"font-weight:bold;\">References</span> <br/>\n",
    "[CLM+18] M. Christandl, F. Leditzky, C. Majenz, G. Smith, F. Speelman, M. Walter, \"Asymptotic performance of port-based teleportation\", arXiv preprint, 2018. <code><a href=\"https://arxiv.org/abs/1809.10751\">arXiv:1809.10751 [quant-ph]</a></code> <br/>\n",
    "[SSMH17] M. Studzinski, S. Strelchuk, M. Mozrzymas, M. Horodecki, \"Port-based teleportation in arbitrary dimension\", Scientific Reports 7 (2017), p. 10871. <code><a href=\"https://arxiv.org/abs/1612.09260\">arXiv:1612.09260 [quant-ph]</a></code>"
   ]
  },
  {
   "cell_type": "code",
   "execution_count": 1,
   "metadata": {
    "collapsed": true
   },
   "outputs": [],
   "source": [
    "from sage.all import *"
   ]
  },
  {
   "cell_type": "code",
   "execution_count": 1,
   "metadata": {},
   "outputs": [
    {
     "name": "stdout",
     "output_type": "stream",
     "text": [
      "First-order coefficient:  3/4 = 0.750000000000000\n",
      "\n",
      "\n",
      "N F N*(1-F)\n",
      "10 0.891439776141006 1.08560223858994\n",
      "20 0.963587924866369 0.728241502672622\n",
      "30 0.975571383099457 0.732858507016290\n",
      "40 0.981579259231591 0.736829630736371\n",
      "50 0.985213629150350 0.739318542482503\n",
      "60 0.987649685610111 0.741018863393339\n",
      "70 0.989396382804380 0.742253203693406\n",
      "80 0.990710128573208 0.743189714143329\n",
      "90 0.991734172762380 0.743924451385843\n",
      "100 0.992554837790144 0.744516220985636\n",
      "110 0.993227245269384 0.745003020367748\n",
      "120 0.993788245941425 0.745410487028972\n",
      "130 0.994263411208136 0.745756542942306\n",
      "140 0.994671042197304 0.746054092377462\n",
      "150 0.995024582251425 0.746312662286269\n",
      "160 0.995334128506731 0.746539438922973\n",
      "170 0.995607412088985 0.746739944872576\n",
      "180 0.995850452811039 0.746918494013018\n",
      "190 0.996068007868642 0.747078504957931\n",
      "200 0.996263886391032 0.747222721793683\n",
      "210 0.996441174416241 0.747353372589431\n",
      "220 0.996602398703529 0.747472285223580\n",
      "230 0.996749647941925 0.747580973357250\n",
      "240 0.996884663745163 0.747680701160789\n",
      "250 0.997008909869296 0.747772532675883\n"
     ]
    }
   ],
   "source": [
    "# set local dimension\n",
    "d = 2\n",
    "\n",
    "# compute first-order coefficient of F_d^std as derived in Theorem 1.2 in [CLM+18]\n",
    "fo_coeff = (d**2-1)/4\n",
    "print 'First-order coefficient: ',fo_coeff,'=',fo_coeff.n()\n",
    "\n",
    "# define m_alpha (see Section 2.2 in [CLM+18] for definitions and formulas)\n",
    "def specht(alpha):\n",
    "    return StandardTableaux(alpha).cardinality()\n",
    "\n",
    "# define d_alpha (see Section 2.2 in [CLM+18] for definitions and formulas)\n",
    "def weyl(alpha):\n",
    "    return SemistandardTableaux(shape=alpha, max_entry=d).cardinality()\n",
    "\n",
    "# choose max N and step size\n",
    "max = 250\n",
    "step = 10\n",
    "\n",
    "print '\\n'\n",
    "print 'N F N*(1-F)'\n",
    "\n",
    "for N in range(step,max+step,step):\n",
    "    # compute the inner sum over Young diagrams mu = alpha + Box using the original formula derived in [SSMH17]\n",
    "    def f(alpha):\n",
    "        s = 0\n",
    "        for i in range(len(alpha)):\n",
    "            if i==0 or alpha[i]<alpha[i-1]:\n",
    "                mu = list(tuple(alpha))\n",
    "                mu[i] += 1\n",
    "                s += sqrt(specht(mu)*weyl(mu)).n()\n",
    "        return s**2\n",
    "    \n",
    "    # alternate formula for the inner sum over Young diagrams mu = alpha + Box \n",
    "    # using the expanded formula on p.28 in [CLM+18] together with Lemma 3.7 therein\n",
    "    def g(alpha):\n",
    "        s = 0\n",
    "        for i in range(len(alpha)):\n",
    "            if i==0 or alpha[i]<alpha[i-1]:\n",
    "                mu = list(tuple(alpha))\n",
    "                mu[i] += 1\n",
    "                s += weyl(mu) / weyl(alpha) * sqrt(N / (mu[i] - (i+1) + d)).n()\n",
    "        return s**2    \n",
    "\n",
    "    F = sum(d**(-N-2) * specht(alpha)*weyl(alpha) * g(alpha) for alpha in Partitions(n=N-1, max_length=d))\n",
    "    # F_orig = sum(d**(-N-2) * f(alpha) for alpha in Partitions(n=N-1, max_length=d))\n",
    "    \n",
    "    print N, F, N*(1-F)"
   ]
  },
  {
   "cell_type": "code",
   "execution_count": null,
   "metadata": {
    "collapsed": true
   },
   "outputs": [],
   "source": []
  }
 ],
 "metadata": {
  "kernelspec": {
   "display_name": "SageMath 8.1",
   "language": "",
   "name": "sagemath"
  },
  "language_info": {
   "codemirror_mode": {
    "name": "ipython",
    "version": 2
   },
   "file_extension": ".py",
   "mimetype": "text/x-python",
   "name": "python",
   "nbconvert_exporter": "python",
   "pygments_lexer": "ipython2",
   "version": "2.7.15rc1"
  }
 },
 "nbformat": 4,
 "nbformat_minor": 2
}
