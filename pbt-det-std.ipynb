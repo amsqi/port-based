{
 "cells": [
  {
   "cell_type": "code",
   "execution_count": 1,
   "metadata": {},
   "outputs": [],
   "source": [
    "from __future__ import print_function"
   ]
  },
  {
   "cell_type": "markdown",
   "metadata": {},
   "source": [
    "# Asymptotic performance of the standard protocol for deterministic PBT\n",
    "\n",
    "Compute the asymptotics of the entanglement fidelity for the deterministic standard protocol using $N$ ports with local dimension $d$."
   ]
  },
  {
   "cell_type": "code",
   "execution_count": 2,
   "metadata": {},
   "outputs": [],
   "source": [
    "def specht(mu):\n",
    "    \"\"\"Dimension of Specht module [mu]. Denoted d_mu in [CLM+18].\"\"\"\n",
    "    return StandardTableaux(mu).cardinality()\n",
    "\n",
    "def weyl(d, mu):\n",
    "    \"\"\"Dimension of Weyl module V_mu^d. Denoted m_{d,mu} in [CLM+18].\"\"\"\n",
    "    return SemistandardTableaux(shape=mu, max_entry=d).cardinality()\n",
    "\n",
    "def box_added(alpha, d):\n",
    "    \"\"\"Partitions of maximal length d obtained by adding one box to alpha.\"\"\"\n",
    "    for i, j in alpha.addable_cells():\n",
    "        if i < d:\n",
    "            yield alpha.add_cell(i)\n",
    "\n",
    "def F_std(d, N):\n",
    "    \"\"\"Exact formula for the entanglement fidelity from [SSMH17]. Denoted F^std_d(N) in [CLM+18].\"\"\"\n",
    "    return d**(-N-2) * sum(\n",
    "            sum(sqrt(specht(mu) * weyl(d, mu)).n() for mu in box_added(alpha, d))**2\n",
    "        for alpha in Partitions(n=N-1, max_length=d))\n",
    "\n",
    "def F_std_coeff(d):\n",
    "    \"\"\"In [CLM+18], we prove that F^std_d(N) = 1 - c/N + o(1/N), where c = (d^2 - 1) / 4. Return the coefficient c.\"\"\"\n",
    "    return (d**2 - 1) / 4"
   ]
  },
  {
   "cell_type": "code",
   "execution_count": 3,
   "metadata": {},
   "outputs": [
    {
     "name": "stdout",
     "output_type": "stream",
     "text": [
      "N F O\n",
      "10 0.925790178051747 0.742098219482527\n",
      "20 0.963715511678486 0.725689766430289\n",
      "30 0.975571654098106 0.732850377056831\n",
      "40 0.981579259690986 0.736829612360546\n",
      "50 0.985213629151039 0.739318542448070\n",
      "60 0.987649685610112 0.741018863393286\n",
      "70 0.989396382804380 0.742253203693406\n",
      "80 0.990710128573209 0.743189714143320\n",
      "90 0.991734172762379 0.743924451385853\n",
      "100 0.992554837790144 0.744516220985647\n",
      "110 0.993227245269384 0.745003020367748\n",
      "120 0.993788245941425 0.745410487028986\n",
      "130 0.994263411208136 0.745756542942292\n",
      "140 0.994671042197304 0.746054092377477\n",
      "150 0.995024582251425 0.746312662286286\n",
      "160 0.995334128506732 0.746539438922955\n",
      "170 0.995607412088985 0.746739944872520\n",
      "180 0.995850452811038 0.746918494013078\n",
      "190 0.996068007868642 0.747078504957952\n",
      "200 0.996263886391031 0.747222721793706\n",
      "210 0.996441174416241 0.747353372589478\n",
      "220 0.996602398703529 0.747472285223556\n",
      "230 0.996749647941925 0.747580973357276\n",
      "240 0.996884663745163 0.747680701160762\n",
      "250 0.997008909869296 0.747772532675911\n"
     ]
    },
    {
     "data": {
      "text/plain": [
       "0.00222746732408896"
      ]
     },
     "execution_count": 3,
     "metadata": {},
     "output_type": "execute_result"
    }
   ],
   "source": [
    "def print_table(d, N_min, N_max, N_step=10, **kwargs):\n",
    "    print('N F O', **kwargs)\n",
    "    for N in range(N_min, N_max+1, N_step):\n",
    "        F = F_std(d, N)\n",
    "        O = N * (1 - F)\n",
    "        print(N, F, O, **kwargs)\n",
    "    return abs(O - F_std_coeff(d))\n",
    "\n",
    "print_table(d=2, N_min=10, N_max=250)"
   ]
  },
  {
   "cell_type": "markdown",
   "metadata": {},
   "source": [
    "Generate data files for the plots in [CLM+18]."
   ]
  },
  {
   "cell_type": "code",
   "execution_count": null,
   "metadata": {},
   "outputs": [
    {
     "name": "stdout",
     "output_type": "stream",
     "text": [
      "# d = 2, N = 10..200\n",
      "CPU times: user 2.41 s, sys: 37.2 ms, total: 2.45 s\n",
      "Wall time: 2.44 s\n",
      "err = 0.00277727820629448\n",
      "\n",
      "# d = 3, N = 10..200\n",
      "CPU times: user 1min 31s, sys: 905 ms, total: 1min 32s\n",
      "Wall time: 1min 32s\n",
      "err = 0.00416644757661278\n",
      "\n",
      "# d = 4, N = 10..200\n"
     ]
    }
   ],
   "source": [
    "!mkdir -p out\n",
    "\n",
    "N_min = 10\n",
    "N_max = 200\n",
    "\n",
    "for d in [2, 3, 4, 5]:\n",
    "    print('# d = %s, N = %s..%s' % (d, N_min, N_max))\n",
    "\n",
    "    fname = 'out/pbt-det-std-d%d.txt' % d\n",
    "    f = open(fname, 'w')\n",
    "    %time err = print_table(d, N_min, N_max, file=f)\n",
    "    print('err =', err)\n",
    "    print()\n",
    "\n",
    "print('Done.')"
   ]
  },
  {
   "cell_type": "markdown",
   "metadata": {
    "collapsed": true
   },
   "source": [
    "### References\n",
    "\n",
    "[CLM+18] M. Christandl, F. Leditzky, C. Majenz, G. Smith, F. Speelman, M. Walter, \"Asymptotic performance of port-based teleportation\", 2018. [arXiv:1809.10751](https://arxiv.org/abs/1809.10751)\n",
    "\n",
    "[SSMH17] M. Studzinski, S. Strelchuk, M. Mozrzymas, M. Horodecki, \"Port-based teleportation in arbitrary dimension\", Scientific Reports 7 (2017). [arXiv:1612.09260](https://arxiv.org/abs/1612.09260)"
   ]
  }
 ],
 "metadata": {
  "kernelspec": {
   "display_name": "SageMath 8.6",
   "language": "",
   "name": "sagemath"
  },
  "language_info": {
   "codemirror_mode": {
    "name": "ipython",
    "version": 2
   },
   "file_extension": ".py",
   "mimetype": "text/x-python",
   "name": "python",
   "nbconvert_exporter": "python",
   "pygments_lexer": "ipython2",
   "version": "2.7.15"
  }
 },
 "nbformat": 4,
 "nbformat_minor": 2
}
