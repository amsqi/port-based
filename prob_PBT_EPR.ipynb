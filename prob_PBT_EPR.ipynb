{
 "cells": [
  {
   "cell_type": "markdown",
   "metadata": {},
   "source": [
    "<span style=\"font-weight:bold;\">References</span> <br/>\n",
    "[CLM+18] M. Christandl, F. Leditzky, C. Majenz, G. Smith, F. Speelman, M. Walter, \"Asymptotic performance of port-based teleportation\", arXiv preprint, 2018. <code><a href=\"https://arxiv.org/abs/1809.10751\">arXiv:1809.10751 [quant-ph]</a></code> <br/>\n",
    "[SSMH17] M. Studzinski, S. Strelchuk, M. Mozrzymas, M. Horodecki, \"Port-based teleportation in arbitrary dimension\", Scientific Reports 7 (2017), p. 10871. <code><a href=\"https://arxiv.org/abs/1612.09260\">arXiv:1612.09260 [quant-ph]</a></code>"
   ]
  },
  {
   "cell_type": "code",
   "execution_count": 1,
   "metadata": {
    "collapsed": true
   },
   "outputs": [],
   "source": [
    "from math import pi as pi\n",
    "from __future__ import print_function,division\n",
    "import numpy as np"
   ]
  },
  {
   "cell_type": "markdown",
   "metadata": {},
   "source": [
    "Approximate mean:"
   ]
  },
  {
   "cell_type": "code",
   "execution_count": 2,
   "metadata": {},
   "outputs": [
    {
     "data": {
      "text/plain": [
       "-0.033649250006872938"
      ]
     },
     "execution_count": 2,
     "metadata": {},
     "output_type": "execute_result"
    }
   ],
   "source": [
    "def amean(num_samples, sampler, *args, **kwargs):\n",
    "    return np.mean([sampler(*args, **kwargs) for _ in range(num_samples)])\n",
    "\n",
    "amean(100, np.random.randn)"
   ]
  },
  {
   "cell_type": "markdown",
   "metadata": {},
   "source": [
    "GUE and GUE<sub>0</sub>"
   ]
  },
  {
   "cell_type": "code",
   "execution_count": 3,
   "metadata": {},
   "outputs": [
    {
     "data": {
      "text/plain": [
       "(1.5942808984216303, 1.5957691216057308)"
      ]
     },
     "execution_count": 3,
     "metadata": {},
     "output_type": "execute_result"
    }
   ],
   "source": [
    "def gue(d):\n",
    "    A = np.random.randn(d, d) + 1j * np.random.randn(d, d)\n",
    "    A /= np.sqrt(2)\n",
    "    A = (A + A.T.conj()) / np.sqrt(2)\n",
    "    return A\n",
    "\n",
    "\n",
    "def gue0(d):\n",
    "    A = gue(d)\n",
    "    return A - A.trace() * np.eye(d) / d\n",
    "\n",
    "\n",
    "def gue0_spec(d):\n",
    "    return np.sort(np.linalg.eigvalsh(gue0(d)))[::-1]\n",
    "\n",
    "def gue0_maxspec(d):\n",
    "    return np.sort(np.linalg.eigvalsh(gue0(d)))[-1]\n",
    "\n",
    "# test this\n",
    "got = np.sqrt(2)*amean(100000, gue0_maxspec, d=2)\n",
    "expected = np.sqrt(8 / np.pi)\n",
    "got, expected"
   ]
  },
  {
   "cell_type": "code",
   "execution_count": 12,
   "metadata": {},
   "outputs": [
    {
     "name": "stdout",
     "output_type": "stream",
     "text": [
      "First order coefficient: 1.12844722632\n",
      "\n",
      "\n",
      "N p sqrt((N-1)/d)*(1-p)\n",
      "10 0.598721590909091 0.851240052635794\n",
      "20 0.695224943615141 0.939379812667241\n",
      "30 0.743329168327393 0.977373408455981\n",
      "40 0.773648868663281 0.999539531894337\n",
      "50 0.795057497818821 1.01441363131955\n",
      "60 0.811237096605812 1.02524499222635\n",
      "70 0.824033559961178 1.03356881081416\n",
      "80 0.834489921464531 1.04021471380877\n",
      "90 0.843246765011590 1.04567450109021\n",
      "100 0.850722515324652 1.05026020006208\n",
      "110 0.857203792605575 1.05418036792554\n",
      "120 0.862894504989684 1.05758027938328\n",
      "130 0.867944266402691 1.06056458174270\n",
      "140 0.872465709484295 1.06321078361040\n",
      "150 0.876545487584933 1.06557765524401\n",
      "160 0.880251518550620 1.06771066087676\n",
      "170 0.883637900401164 1.06964558609274\n",
      "180 0.886748335296968 1.07141102777679\n",
      "190 0.889618569355172 1.07303014489263\n",
      "200 0.892278166359596 1.07452191581356\n",
      "210 0.894751820338421 1.07590205834776\n",
      "220 0.897060342438345 1.07718371428959\n",
      "230 0.899221413579917 1.07837796646401\n",
      "240 0.901250165934643 1.07949423457854\n",
      "250 0.903159637450401 1.08054058203885\n",
      "260 0.904961130961453 1.08152395643477\n",
      "270 0.906664500706319 1.08245037998048\n",
      "280 0.908278382996629 1.08332510175246\n",
      "290 0.909810383473767 1.08415272045134\n",
      "300 0.911267230298144 1.08493728419431\n",
      "310 0.912654900367701 1.08568237224357\n",
      "320 0.913978724008329 1.08639116240699\n",
      "330 0.915243472348879 1.08706648698397\n",
      "340 0.916453430669437 1.08771087948529\n",
      "350 0.917612460310805 1.08832661387046\n",
      "360 0.918724051197067 1.08891573767678\n",
      "370 0.919791366609520 1.08948010013170\n",
      "380 0.920817281528794 1.09002137612108\n",
      "390 0.921804415610155 1.09054108671544\n",
      "400 0.922755161658449 1.09104061682288\n",
      "410 0.923671710311559 1.09152123043162\n",
      "420 0.924556071515357 1.09198408382108\n",
      "430 0.925410093272048 1.09243023705376\n",
      "440 0.926235478062121 1.09286066400566\n",
      "450 0.927033797273791 1.09327626114966\n",
      "460 0.927806503919693 1.09367785527103\n",
      "470 0.928554943876194 1.09406621026480\n",
      "480 0.929280365844122 1.09444203314124\n",
      "490 0.929983930199450 1.09480597934618\n",
      "500 0.930666716877334 1.09515865748652\n"
     ]
    }
   ],
   "source": [
    "#set local dimension\n",
    "d = 2\n",
    "\n",
    "# compute first-order coefficient of p_d^EPR as derived in Theorem 1.3 in [CLM+18] \n",
    "# by sampling from GUE_0 using sample_size samples\n",
    "sample_size = 100000\n",
    "first_order = amean(sample_size,gue0_maxspec, d)\n",
    "print('First order coefficient:',first_order)\n",
    "\n",
    "# define m_alpha (see Section 2.2 in [CLM+18] for definitions and formulas)\n",
    "def specht(alpha):\n",
    "    return StandardTableaux(alpha).cardinality()\n",
    "\n",
    "# define d_alpha (see Section 2.2 in [CLM+18] for definitions and formulas)\n",
    "def weyl(alpha):\n",
    "    return SemistandardTableaux(shape=alpha, max_entry=d).cardinality()\n",
    "\n",
    "step = 10\n",
    "max = 500\n",
    "\n",
    "print('\\n')\n",
    "print('N p sqrt((N-1)/d)*(1-p)')\n",
    "\n",
    "for N in range(10,max+step,step):\n",
    "    def f(alpha,N,d):\n",
    "        return specht(alpha)*weyl(alpha)*N/(alpha[0]+d).n()\n",
    "    \n",
    "    p = sum(d**-N * f(alpha,N,d) for alpha in Partitions(n=N-1, max_length=d))\n",
    "    print(N, p, sqrt((N-1)/d).n()*(1-p))\n",
    "            "
   ]
  },
  {
   "cell_type": "code",
   "execution_count": null,
   "metadata": {
    "collapsed": true
   },
   "outputs": [],
   "source": []
  }
 ],
 "metadata": {
  "kernelspec": {
   "display_name": "SageMath 8.1",
   "language": "",
   "name": "sagemath"
  },
  "language_info": {
   "codemirror_mode": {
    "name": "ipython",
    "version": 2
   },
   "file_extension": ".py",
   "mimetype": "text/x-python",
   "name": "python",
   "nbconvert_exporter": "python",
   "pygments_lexer": "ipython2",
   "version": "2.7.15rc1"
  }
 },
 "nbformat": 4,
 "nbformat_minor": 2
}
