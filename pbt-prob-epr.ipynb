{
 "cells": [
  {
   "cell_type": "code",
   "execution_count": 14,
   "metadata": {},
   "outputs": [],
   "source": [
    "from __future__ import print_function\n",
    "import numpy as np"
   ]
  },
  {
   "cell_type": "markdown",
   "metadata": {},
   "source": [
    "# Asymptotic performance of probabilistic PBT with EPR pairs\n",
    "\n",
    "Compute the probability of success for probabilistic port-based teleportation using $N$ ports with local dimension $d$, as well as the asymptotic behavior."
   ]
  },
  {
   "cell_type": "code",
   "execution_count": 15,
   "metadata": {},
   "outputs": [
    {
     "data": {
      "text/plain": [
       "0.598721590909091"
      ]
     },
     "execution_count": 15,
     "metadata": {},
     "output_type": "execute_result"
    }
   ],
   "source": [
    "def specht(mu):\n",
    "    \"\"\"Dimension of Specht module [mu]. Denoted d_mu in [CLM+18].\"\"\"\n",
    "    return StandardTableaux(mu).cardinality()\n",
    "\n",
    "def weyl(d, mu):\n",
    "    \"\"\"Dimension of Weyl module V_mu^d. Denoted m_{d,mu} in [CLM+18].\"\"\"\n",
    "    return SemistandardTableaux(shape=mu, max_entry=d).cardinality()\n",
    "\n",
    "def p_EPR(d, N):\n",
    "    \"\"\"\n",
    "    Exact expression for the success probability from [SSMH17]. Denoted p^EPR_d(N) in [CLM+18].\n",
    "    We use the formula derived in the proof of Theorem 1.3 of [CLM+18].\n",
    "    \"\"\"\n",
    "    return d**-N * sum(\n",
    "            (weyl(d, alpha) * specht(alpha) * N / (alpha[0] + d)).n()\n",
    "        for alpha in Partitions(n=N-1, max_length=d))\n",
    "\n",
    "p_EPR(2, 10)"
   ]
  },
  {
   "cell_type": "code",
   "execution_count": 16,
   "metadata": {},
   "outputs": [],
   "source": [
    "def GUE_0_lambda_max(d):\n",
    "    A = np.random.randn(d, d) + 1j * np.random.randn(d, d)\n",
    "    A = (A + A.T.conj()) / 2\n",
    "    A = A - A.trace() / d * np.eye(d)\n",
    "    return np.sort(np.linalg.eigvalsh(A))[-1]\n",
    "\n",
    "def GUE_0_lambda_max_estimate(d, num_samples):\n",
    "    \"\"\"\n",
    "    In [CLM+18], we prove that p^EPR_d(N) = 1 - c*sqrt(d/(N-1)) + o(1/sqrt(N)), where c = E[lambda_max(G)].\n",
    "    This function estimates the coefficient c.\n",
    "    \"\"\"\n",
    "    return np.mean([GUE_0_lambda_max(d) for _ in range(num_samples)])"
   ]
  },
  {
   "cell_type": "markdown",
   "metadata": {},
   "source": [
    "Compare with the analytical answer for d=2."
   ]
  },
  {
   "cell_type": "code",
   "execution_count": 17,
   "metadata": {},
   "outputs": [
    {
     "name": "stdout",
     "output_type": "stream",
     "text": [
      "0.004373230585100751\n",
      "CPU times: user 1.01 s, sys: 3.67 ms, total: 1.01 s\n",
      "Wall time: 1.01 s\n"
     ]
    }
   ],
   "source": [
    "%%time\n",
    "got = GUE_0_lambda_max_estimate(2, 10000)\n",
    "expected = np.sqrt(4 / np.pi)\n",
    "print(abs(got - expected))"
   ]
  },
  {
   "cell_type": "code",
   "execution_count": 18,
   "metadata": {},
   "outputs": [
    {
     "name": "stdout",
     "output_type": "stream",
     "text": [
      "N p FO\n",
      "10 0.598721590909091 0.8512400526357939\n",
      "20 0.695224943615141 0.939379812667241\n",
      "30 0.743329168327393 0.9773734084559812\n",
      "40 0.773648868663281 0.999539531894337\n",
      "50 0.795057497818821 1.0144136313195546\n",
      "60 0.811237096605812 1.02524499222635\n",
      "70 0.824033559961178 1.0335688108141619\n",
      "80 0.834489921464531 1.0402147138087754\n",
      "90 0.843246765011590 1.0456745010902115\n",
      "100 0.850722515324652 1.0502602000620773\n",
      "110 0.857203792605575 1.0541803679255395\n",
      "120 0.862894504989684 1.05758027938328\n",
      "130 0.867944266402691 1.0605645817426965\n",
      "140 0.872465709484295 1.063210783610396\n",
      "150 0.876545487584933 1.0655776552440097\n",
      "160 0.880251518550620 1.0677106608767604\n",
      "170 0.883637900401164 1.069645586092736\n",
      "180 0.886748335296968 1.071411027776788\n",
      "190 0.889618569355172 1.0730301448926276\n",
      "200 0.892278166359596 1.0745219158135655\n",
      "210 0.894751820338421 1.0759020583477579\n",
      "220 0.897060342438345 1.0771837142895937\n",
      "230 0.899221413579917 1.0783779664640107\n",
      "240 0.901250165934643 1.0794942345785397\n",
      "250 0.903159637450401 1.0805405820388514\n"
     ]
    }
   ],
   "source": [
    "def print_table(d, N_min, N_max, N_step=10, file=sys.stdout, debug=False):\n",
    "    print('N p FO', file=file)\n",
    "    for N in range(N_min, N_max+1, N_step):\n",
    "        p = p_EPR(d, N)\n",
    "        FO = np.sqrt((N-1) / d) * (1 - p)\n",
    "        print(N, p, FO, file=file)\n",
    "        file.flush()\n",
    "        if debug:\n",
    "            sys.stdout.flush()\n",
    "            print(N, p, FO, file=sys.stderr)\n",
    "            sys.stderr.flush()\n",
    "\n",
    "print_table(d=2, N_min=10, N_max=250)"
   ]
  },
  {
   "cell_type": "markdown",
   "metadata": {},
   "source": [
    "Generate data files for the plots in [CLM+18]."
   ]
  },
  {
   "cell_type": "code",
   "execution_count": 12,
   "metadata": {},
   "outputs": [
    {
     "name": "stdout",
     "output_type": "stream",
     "text": [
      "3 1.905\n",
      "4 2.527\n",
      "5 3.064\n",
      "CPU times: user 31.6 s, sys: 170 ms, total: 31.8 s\n",
      "Wall time: 32.7 s\n"
     ]
    }
   ],
   "source": [
    "%%time\n",
    "!mkdir -p out\n",
    "\n",
    "NUM_SAMPLES = 100000\n",
    "\n",
    "for d in [3, 4, 5]:\n",
    "    print(\"%d %.03f\" % (d, GUE_0_lambda_max_estimate(d, NUM_SAMPLES)))"
   ]
  },
  {
   "cell_type": "code",
   "execution_count": null,
   "metadata": {},
   "outputs": [
    {
     "name": "stdout",
     "output_type": "stream",
     "text": [
      "# d = 2, N = 10..500\n",
      "\n",
      "# d = 3, N = 10..500\n",
      "\n",
      "# d = 4, N = 10..500\n",
      "\n",
      "# d = 5, N = 10..500\n"
     ]
    }
   ],
   "source": [
    "%%time\n",
    "!mkdir -p out\n",
    "\n",
    "N_min = 10\n",
    "N_max = 500\n",
    "\n",
    "for d in [2, 3, 4, 5]:\n",
    "    print('# d = %s, N = %s..%s' % (d, N_min, N_max))\n",
    "\n",
    "    fname = 'out/pbt-prob-epr-d%d.txt' % d\n",
    "    with open(fname, 'w') as f:\n",
    "        print_table(d, N_min, N_max, file=f) #, debug=True)\n",
    "    print()\n",
    "\n",
    "print('Done.')"
   ]
  },
  {
   "cell_type": "markdown",
   "metadata": {
    "collapsed": true
   },
   "source": [
    "### References\n",
    "\n",
    "[CLM+18] M. Christandl, F. Leditzky, C. Majenz, G. Smith, F. Speelman, M. Walter, \"Asymptotic performance of port-based teleportation\", 2018. [arXiv:1809.10751](https://arxiv.org/abs/1809.10751)\n",
    "\n",
    "[SSMH17] M. Studzinski, S. Strelchuk, M. Mozrzymas, M. Horodecki, \"Port-based teleportation in arbitrary dimension\", Scientific Reports 7 (2017). [arXiv:1612.09260](https://arxiv.org/abs/1612.09260)"
   ]
  }
 ],
 "metadata": {
  "kernelspec": {
   "display_name": "SageMath 8.6",
   "language": "",
   "name": "sagemath"
  },
  "language_info": {
   "codemirror_mode": {
    "name": "ipython",
    "version": 2
   },
   "file_extension": ".py",
   "mimetype": "text/x-python",
   "name": "python",
   "nbconvert_exporter": "python",
   "pygments_lexer": "ipython2",
   "version": "2.7.15"
  }
 },
 "nbformat": 4,
 "nbformat_minor": 2
}
